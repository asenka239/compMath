{
  "nbformat": 4,
  "nbformat_minor": 0,
  "metadata": {
    "colab": {
      "name": "Home task №1.ipynb",
      "provenance": [],
      "collapsed_sections": [],
      "include_colab_link": true
    },
    "kernelspec": {
      "name": "python3",
      "display_name": "Python 3"
    },
    "language_info": {
      "name": "python"
    }
  },
  "cells": [
    {
      "cell_type": "markdown",
      "metadata": {
        "id": "view-in-github",
        "colab_type": "text"
      },
      "source": [
        "<a href=\"https://colab.research.google.com/github/asenka239/compMath/blob/main/Home_task_%E2%84%961.ipynb\" target=\"_parent\"><img src=\"https://colab.research.google.com/assets/colab-badge.svg\" alt=\"Open In Colab\"/></a>"
      ]
    },
    {
      "cell_type": "markdown",
      "metadata": {
        "id": "TlOwptG_rILh"
      },
      "source": [
        "# Numpy"
      ]
    },
    {
      "cell_type": "code",
      "metadata": {
        "id": "i7f1khfxrPCY"
      },
      "source": [
        "import numpy as np"
      ],
      "execution_count": null,
      "outputs": []
    },
    {
      "cell_type": "markdown",
      "metadata": {
        "id": "Ayhr8BmIrK4U"
      },
      "source": [
        "Задание № 1"
      ]
    },
    {
      "cell_type": "code",
      "metadata": {
        "colab": {
          "base_uri": "https://localhost:8080/"
        },
        "id": "StheeRhqrMKn",
        "outputId": "4c7a6997-4c0b-4120-8d56-cb8db398aa97"
      },
      "source": [
        "a = np.array([[1, 2, 3],\n",
        "              [4, 5, 6,]])\n",
        "b = np.array([[7, 8],\n",
        "              [9, 10]])\n",
        "\n",
        "print(a)\n",
        "print(b)\n",
        "a_plus_b = np.concatenate([a, b], axis=1)\n",
        "print(a_plus_b)"
      ],
      "execution_count": null,
      "outputs": [
        {
          "output_type": "stream",
          "name": "stdout",
          "text": [
            "[[1 2 3]\n",
            " [4 5 6]]\n",
            "[[ 7  8]\n",
            " [ 9 10]]\n",
            "[[ 1  2  3  7  8]\n",
            " [ 4  5  6  9 10]]\n"
          ]
        }
      ]
    },
    {
      "cell_type": "markdown",
      "metadata": {
        "id": "Hq39mp1RrZIm"
      },
      "source": [
        "Задание №2"
      ]
    },
    {
      "cell_type": "code",
      "metadata": {
        "colab": {
          "base_uri": "https://localhost:8080/"
        },
        "id": "0SGLIloQrW_P",
        "outputId": "4c1a691f-13b3-4e57-c897-2bdc35143c4c"
      },
      "source": [
        "a = np.arange(5)\n",
        "b = np.arange(0, 10, 2)\n",
        "M = np.random.randint(10, size = (max(a)+1, max(b)+1))\n",
        "print('M = \\n', M, '\\n')\n",
        "\n",
        "np.diag(M[a][:, b])"
      ],
      "execution_count": null,
      "outputs": [
        {
          "output_type": "stream",
          "name": "stdout",
          "text": [
            "M = \n",
            " [[8 3 0 3 2 9 8 9 8]\n",
            " [2 4 1 6 0 8 2 5 5]\n",
            " [9 5 7 0 0 9 8 8 2]\n",
            " [6 4 4 6 2 7 5 7 8]\n",
            " [2 5 0 5 6 7 3 3 1]] \n",
            "\n"
          ]
        },
        {
          "output_type": "execute_result",
          "data": {
            "text/plain": [
              "array([8, 1, 0, 5, 1])"
            ]
          },
          "metadata": {},
          "execution_count": 3
        }
      ]
    },
    {
      "cell_type": "markdown",
      "metadata": {
        "id": "MTH2urF-wXJh"
      },
      "source": [
        "Задание №3"
      ]
    },
    {
      "cell_type": "code",
      "metadata": {
        "colab": {
          "base_uri": "https://localhost:8080/"
        },
        "id": "sf8FKabhwQ0T",
        "outputId": "b957271e-88b3-4687-b01d-c5fce51b153d"
      },
      "source": [
        "M = np.array([[6, 2, 1, 2, 9],\n",
        "              [6, 4, 8, 8, 7],\n",
        "              [0, 2, 0, 0, 0],\n",
        "              [6, 6, 6, 3, 2],\n",
        "              [7, 3, 8, 5, 9]])\n",
        "\n",
        "print('Trace of M is', M.trace())\n",
        "print('Diagonal of M has', np.count_nonzero(np.diag(M)))"
      ],
      "execution_count": null,
      "outputs": [
        {
          "output_type": "stream",
          "name": "stdout",
          "text": [
            "Trace of M is 22\n",
            "Diagonal of M has 4\n"
          ]
        }
      ]
    },
    {
      "cell_type": "markdown",
      "metadata": {
        "id": "kTT7PK-Bxif_"
      },
      "source": [
        "Задание №4"
      ]
    },
    {
      "cell_type": "code",
      "metadata": {
        "colab": {
          "base_uri": "https://localhost:8080/"
        },
        "id": "rYAho2EIxhNe",
        "outputId": "e71c0d23-043d-4228-af24-d2c67a6b7cd8"
      },
      "source": [
        "M = np.random.randint(20, size = (10, 10))\n",
        "print(M)\n",
        "\n",
        "np.asarray(np.unique(M, return_counts=True)).T"
      ],
      "execution_count": null,
      "outputs": [
        {
          "output_type": "stream",
          "name": "stdout",
          "text": [
            "[[17  7  8  5 15 18 14 13  9  6]\n",
            " [ 4  2  8  5 15  7  1  3  2  3]\n",
            " [17  1  9  1 12 15 17 15 15  7]\n",
            " [18  3 15  7 12  0 18  1  0 10]\n",
            " [13  6 11  1 19  2 10  0  2  5]\n",
            " [18 14  5  0 17  0 17  3 10 19]\n",
            " [18  7 16 10  4 13  7  8  4 15]\n",
            " [ 7  3 15 16  2  3  5 15 17 15]\n",
            " [ 6 15 11 18 18 15 11 10  1  6]\n",
            " [16 10 13  2 16  6 10 11  7  6]]\n"
          ]
        },
        {
          "output_type": "execute_result",
          "data": {
            "text/plain": [
              "array([[ 0,  5],\n",
              "       [ 1,  6],\n",
              "       [ 2,  6],\n",
              "       [ 3,  6],\n",
              "       [ 4,  3],\n",
              "       [ 5,  5],\n",
              "       [ 6,  6],\n",
              "       [ 7,  8],\n",
              "       [ 8,  3],\n",
              "       [ 9,  2],\n",
              "       [10,  7],\n",
              "       [11,  4],\n",
              "       [12,  2],\n",
              "       [13,  4],\n",
              "       [14,  2],\n",
              "       [15, 12],\n",
              "       [16,  4],\n",
              "       [17,  6],\n",
              "       [18,  7],\n",
              "       [19,  2]])"
            ]
          },
          "metadata": {},
          "execution_count": 5
        }
      ]
    },
    {
      "cell_type": "markdown",
      "metadata": {
        "id": "GNwnLQeD2eR5"
      },
      "source": [
        "Задание №5"
      ]
    },
    {
      "cell_type": "code",
      "metadata": {
        "colab": {
          "base_uri": "https://localhost:8080/"
        },
        "id": "rEAK4N1MzPYr",
        "outputId": "8e533268-8891-4f46-9caa-2670ac7c3cda"
      },
      "source": [
        " m = 4\n",
        " n = 3\n",
        " a, b = np.random.randint(-10, high=10, size=(m,n)), np.random.randint(-10, high=10, size=(m,n))\n",
        " print('a = \\n', a, '\\n b = \\n', b, '\\n')\n",
        "\n",
        " b * (np.greater_equal(a, 0))"
      ],
      "execution_count": null,
      "outputs": [
        {
          "output_type": "stream",
          "name": "stdout",
          "text": [
            "a = \n",
            " [[ 8  9 -7]\n",
            " [ 4 -7 -4]\n",
            " [ 0 -3  7]\n",
            " [-1  2  5]] \n",
            " b = \n",
            " [[-7  1 -8]\n",
            " [-1 -2  8]\n",
            " [-2  8 -8]\n",
            " [ 8 -2  3]] \n",
            "\n"
          ]
        },
        {
          "output_type": "execute_result",
          "data": {
            "text/plain": [
              "array([[-7,  1,  0],\n",
              "       [-1,  0,  0],\n",
              "       [-2,  0, -8],\n",
              "       [ 0, -2,  3]])"
            ]
          },
          "metadata": {},
          "execution_count": 6
        }
      ]
    },
    {
      "cell_type": "markdown",
      "metadata": {
        "id": "0zESSZhf83Df"
      },
      "source": [
        "Задание №6"
      ]
    },
    {
      "cell_type": "code",
      "metadata": {
        "colab": {
          "base_uri": "https://localhost:8080/"
        },
        "id": "VLchv4tQ1t5K",
        "outputId": "6d807660-e84b-4766-fd2e-8c784ecec2ee"
      },
      "source": [
        "M = np.array([[6, 2, 1, 2, 9],\n",
        "              [6, 4, 8, 8, 7],\n",
        "              [0, 2, 0, 0, 0],\n",
        "              [6, 6, 6, 3, 2],\n",
        "              [7, 3, 8, 5, 9]])\n",
        "\n",
        "M_ = M - np.mean(M, 0)\n",
        "print(M_)\n",
        "\n",
        "M_ / (np.linalg.norm(M_, axis=0) + 10**(-15))"
      ],
      "execution_count": null,
      "outputs": [
        {
          "output_type": "stream",
          "name": "stdout",
          "text": [
            "[[ 1.  -1.4 -3.6 -1.6  3.6]\n",
            " [ 1.   0.6  3.4  4.4  1.6]\n",
            " [-5.  -1.4 -4.6 -3.6 -5.4]\n",
            " [ 1.   2.6  1.4 -0.6 -3.4]\n",
            " [ 2.  -0.4  3.4  1.4  3.6]]\n"
          ]
        },
        {
          "output_type": "execute_result",
          "data": {
            "text/plain": [
              "array([[ 0.1767767 , -0.41833001, -0.46788772, -0.26233033,  0.43276233],\n",
              "       [ 0.1767767 ,  0.17928429,  0.44189396,  0.72140842,  0.19233881],\n",
              "       [-0.88388348, -0.41833001, -0.59785653, -0.59024325, -0.6491435 ],\n",
              "       [ 0.1767767 ,  0.7768986 ,  0.18195634, -0.09837388, -0.40871998],\n",
              "       [ 0.35355339, -0.11952286,  0.44189396,  0.22953904,  0.43276233]])"
            ]
          },
          "metadata": {},
          "execution_count": 7
        }
      ]
    },
    {
      "cell_type": "markdown",
      "metadata": {
        "id": "BVcrTprbCt1q"
      },
      "source": [
        "Задание №7"
      ]
    },
    {
      "cell_type": "code",
      "metadata": {
        "id": "kGoSuP_s8_ga",
        "colab": {
          "base_uri": "https://localhost:8080/"
        },
        "outputId": "99644f8b-35f3-4690-ed98-3e5e72acc52f"
      },
      "source": [
        "a = np.array([[1, -1, 3],\n",
        "              [-3, 2, -2]])\n",
        "b = np.array([[6, -5, 4],\n",
        "              [7, 8, -3]])\n",
        "\n",
        "a @ b.T"
      ],
      "execution_count": null,
      "outputs": [
        {
          "output_type": "execute_result",
          "data": {
            "text/plain": [
              "array([[ 23, -10],\n",
              "       [-36,   1]])"
            ]
          },
          "metadata": {},
          "execution_count": 8
        }
      ]
    },
    {
      "cell_type": "markdown",
      "metadata": {
        "id": "DMNLRysSF2PL"
      },
      "source": [
        "# Matplotlib"
      ]
    },
    {
      "cell_type": "code",
      "metadata": {
        "id": "8U20w-dIGALA"
      },
      "source": [
        "import matplotlib.pyplot as plt\n",
        "from matplotlib.pyplot import figure"
      ],
      "execution_count": null,
      "outputs": []
    },
    {
      "cell_type": "markdown",
      "metadata": {
        "id": "sx_sVVS6JgsF"
      },
      "source": [
        "Задание №1"
      ]
    },
    {
      "cell_type": "code",
      "metadata": {
        "colab": {
          "base_uri": "https://localhost:8080/",
          "height": 616
        },
        "id": "_RdJ2O73Cz-n",
        "outputId": "17e970a4-2258-46fc-fecf-96486cd5a684"
      },
      "source": [
        "x1 = np.linspace(-1, 5, 100)\n",
        "y1 = np.exp(x1)\n",
        "\n",
        "x2 = np.linspace(-5, 5, 50)\n",
        "y2 = 2 * x2 + 5\n",
        "\n",
        "y3 = x2**3\n",
        "\n",
        "x4 = np.random.normal(size=(100000))\n",
        "\n",
        "fig, axs = plt.subplots(2, 2, figsize=(24, 16))\n",
        "axs[0][0].scatter(x1, y1, color = 'r')\n",
        "axs[0][1].scatter(x2, y2, color = 'g')\n",
        "axs[1][0].plot(x2, y3, color = 'y')\n",
        "axs[1][1].hist(x4, 50, color = 'b')\n",
        "plt.show()"
      ],
      "execution_count": null,
      "outputs": [
        {
          "output_type": "display_data",
          "data": {
            "image/png": "[encoded data removed]",
            "text/plain": [
              "<Figure size 1728x1152 with 4 Axes>"
            ]
          },
          "metadata": {
            "needs_background": "light"
          }
        }
      ]
    },
    {
      "cell_type": "markdown",
      "metadata": {
        "id": "a3OZKwUYJxO_"
      },
      "source": [
        "Задание №2"
      ]
    },
    {
      "cell_type": "code",
      "metadata": {
        "id": "0_ly8Md0GEDb"
      },
      "source": [
        "from pandas import read_excel"
      ],
      "execution_count": null,
      "outputs": []
    },
    {
      "cell_type": "code",
      "metadata": {
        "colab": {
          "base_uri": "https://localhost:8080/",
          "height": 204
        },
        "id": "B2WEqsusKtH4",
        "outputId": "5adc903c-a1c8-44ad-8327-6c08da00a428"
      },
      "source": [
        "data = read_excel(\"N.xlsx\")\n",
        "\n",
        "I = data['I, A']\n",
        "NmNf = data['N-Nf']\n",
        "\n",
        "dA = data['dA, A']\n",
        "dNmNf = data['d(N-Nf)']\n",
        "\n",
        "data.head()"
      ],
      "execution_count": null,
      "outputs": [
        {
          "output_type": "execute_result",
          "data": {
            "text/html": [
              "<div>\n",
              "<style scoped>\n",
              "    .dataframe tbody tr th:only-of-type {\n",
              "        vertical-align: middle;\n",
              "    }\n",
              "\n",
              "    .dataframe tbody tr th {\n",
              "        vertical-align: top;\n",
              "    }\n",
              "\n",
              "    .dataframe thead th {\n",
              "        text-align: right;\n",
              "    }\n",
              "</style>\n",
              "<table border=\"1\" class=\"dataframe\">\n",
              "  <thead>\n",
              "    <tr style=\"text-align: right;\">\n",
              "      <th></th>\n",
              "      <th>N</th>\n",
              "      <th>I, A</th>\n",
              "      <th>dA, A</th>\n",
              "      <th>N.1</th>\n",
              "      <th>N-Nf</th>\n",
              "      <th>d(N-Nf)</th>\n",
              "      <th>p</th>\n",
              "      <th>dP</th>\n",
              "      <th>T</th>\n",
              "      <th>dT</th>\n",
              "      <th>Unnamed: 10</th>\n",
              "      <th>Unnamed: 11</th>\n",
              "    </tr>\n",
              "  </thead>\n",
              "  <tbody>\n",
              "    <tr>\n",
              "      <th>0</th>\n",
              "      <td>1</td>\n",
              "      <td>0.0</td>\n",
              "      <td>0.02</td>\n",
              "      <td>0.66</td>\n",
              "      <td>-0.13</td>\n",
              "      <td>0.14</td>\n",
              "      <td>0</td>\n",
              "      <td>0</td>\n",
              "      <td>0</td>\n",
              "      <td>0</td>\n",
              "      <td>0.000</td>\n",
              "      <td>0.000</td>\n",
              "    </tr>\n",
              "    <tr>\n",
              "      <th>1</th>\n",
              "      <td>2</td>\n",
              "      <td>0.2</td>\n",
              "      <td>0.02</td>\n",
              "      <td>0.71</td>\n",
              "      <td>-0.08</td>\n",
              "      <td>0.14</td>\n",
              "      <td>51</td>\n",
              "      <td>5</td>\n",
              "      <td>3</td>\n",
              "      <td>0</td>\n",
              "      <td>0.000</td>\n",
              "      <td>0.000</td>\n",
              "    </tr>\n",
              "    <tr>\n",
              "      <th>2</th>\n",
              "      <td>3</td>\n",
              "      <td>0.4</td>\n",
              "      <td>0.02</td>\n",
              "      <td>0.91</td>\n",
              "      <td>0.12</td>\n",
              "      <td>0.15</td>\n",
              "      <td>103</td>\n",
              "      <td>5</td>\n",
              "      <td>10</td>\n",
              "      <td>1</td>\n",
              "      <td>3.322</td>\n",
              "      <td>0.118</td>\n",
              "    </tr>\n",
              "    <tr>\n",
              "      <th>3</th>\n",
              "      <td>4</td>\n",
              "      <td>0.6</td>\n",
              "      <td>0.02</td>\n",
              "      <td>0.89</td>\n",
              "      <td>0.10</td>\n",
              "      <td>0.14</td>\n",
              "      <td>154</td>\n",
              "      <td>5</td>\n",
              "      <td>23</td>\n",
              "      <td>1</td>\n",
              "      <td>1.651</td>\n",
              "      <td>0.118</td>\n",
              "    </tr>\n",
              "    <tr>\n",
              "      <th>4</th>\n",
              "      <td>5</td>\n",
              "      <td>0.8</td>\n",
              "      <td>0.02</td>\n",
              "      <td>0.96</td>\n",
              "      <td>0.17</td>\n",
              "      <td>0.15</td>\n",
              "      <td>206</td>\n",
              "      <td>5</td>\n",
              "      <td>40</td>\n",
              "      <td>1</td>\n",
              "      <td>1.398</td>\n",
              "      <td>0.118</td>\n",
              "    </tr>\n",
              "  </tbody>\n",
              "</table>\n",
              "</div>"
            ],
            "text/plain": [
              "   N  I, A  dA, A   N.1  N-Nf  ...  dP   T  dT  Unnamed: 10  Unnamed: 11\n",
              "0  1   0.0   0.02  0.66 -0.13  ...   0   0   0        0.000        0.000\n",
              "1  2   0.2   0.02  0.71 -0.08  ...   5   3   0        0.000        0.000\n",
              "2  3   0.4   0.02  0.91  0.12  ...   5  10   1        3.322        0.118\n",
              "3  4   0.6   0.02  0.89  0.10  ...   5  23   1        1.651        0.118\n",
              "4  5   0.8   0.02  0.96  0.17  ...   5  40   1        1.398        0.118\n",
              "\n",
              "[5 rows x 12 columns]"
            ]
          },
          "metadata": {},
          "execution_count": 12
        }
      ]
    },
    {
      "cell_type": "code",
      "metadata": {
        "colab": {
          "base_uri": "https://localhost:8080/",
          "height": 707
        },
        "id": "Nz2uVi_DL7bO",
        "outputId": "4db240d4-5839-4f21-e3c0-ba7ba7d4eb31"
      },
      "source": [
        "plt.figure(figsize=[16, 12])\n",
        "plt.errorbar(I, NmNf, fmt='.k', ecolor='purple', \n",
        "             xerr=dA, yerr=dNmNf, label=u'Данные c крестами', )\n",
        "plt.xlabel('I, A', fontsize=18)\n",
        "plt.ylabel('N - Nb, 1/s', fontsize=18)\n",
        "plt.grid(True)\n",
        "plt.legend()\n",
        "plt.show()"
      ],
      "execution_count": null,
      "outputs": [
        {
          "output_type": "display_data",
          "data": {
            "image/png": "[encoded data removed]",
            "text/plain": [
              "<Figure size 1152x864 with 1 Axes>"
            ]
          },
          "metadata": {
            "needs_background": "light"
          }
        }
      ]
    },
    {
      "cell_type": "markdown",
      "metadata": {
        "id": "f_xOeSyRPdjB"
      },
      "source": [
        "Задание №3"
      ]
    },
    {
      "cell_type": "code",
      "metadata": {
        "colab": {
          "base_uri": "https://localhost:8080/",
          "height": 694
        },
        "id": "YqJmV_9oMFJr",
        "outputId": "d6dae689-eb69-4cdf-e0cf-72acb06bcb44"
      },
      "source": [
        "plt.figure(figsize=[16, 12])\n",
        "plt.errorbar(I, NmNf, fmt='.k', ecolor='green', \n",
        "             xerr=dA, yerr=dNmNf, label=u'Данные c крестами', )\n",
        "plt.xlabel('I, A', fontsize=18)\n",
        "plt.ylabel('N - Nb, 1/s', fontsize=18)\n",
        "plt.yscale('log')\n",
        "plt.legend()\n",
        "plt.show()"
      ],
      "execution_count": null,
      "outputs": [
        {
          "output_type": "display_data",
          "data": {
            "image/png": "[encoded data removed]",
            "text/plain": [
              "<Figure size 1152x864 with 1 Axes>"
            ]
          },
          "metadata": {
            "needs_background": "light"
          }
        }
      ]
    },
    {
      "cell_type": "markdown",
      "metadata": {
        "id": "B2wC8RZbPuE3"
      },
      "source": [
        "# Вигнеровский полукруг\n"
      ]
    },
    {
      "cell_type": "code",
      "metadata": {
        "id": "0_FgxT1YR7lU"
      },
      "source": [
        "from tqdm import trange, tqdm"
      ],
      "execution_count": null,
      "outputs": []
    },
    {
      "cell_type": "code",
      "metadata": {
        "colab": {
          "base_uri": "https://localhost:8080/",
          "height": 265
        },
        "id": "En9sgxq6Pwfc",
        "outputId": "da6a71c4-cefe-4420-cbef-12ed608aef0a"
      },
      "source": [
        "N = 750\n",
        "M = np.random.normal(size=(N, N));\n",
        "M += M.T\n",
        "\n",
        "eigen = np.linalg.eig(M)[0]\n",
        "\n",
        "plt.hist(eigen, 50, color='pink')\n",
        "plt.show()"
      ],
      "execution_count": null,
      "outputs": [
        {
          "output_type": "display_data",
          "data": {
            "image/png": "[encoded data removed]",
            "text/plain": [
              "<Figure size 432x288 with 1 Axes>"
            ]
          },
          "metadata": {
            "needs_background": "light"
          }
        }
      ]
    },
    {
      "cell_type": "code",
      "metadata": {
        "colab": {
          "base_uri": "https://localhost:8080/"
        },
        "id": "tnmc94z0Qm9_",
        "outputId": "3e9bb186-04b6-486e-a3d9-151715de2c2a"
      },
      "source": [
        "histos, bins = [], []\n",
        "for _ in trange(50): \n",
        "  M = np.random.normal(size=(N, N));\n",
        "  M += M.T  \n",
        "\n",
        "  eigen = np.linalg.eig(M)[0]\n",
        "  hist, bin = np.histogram(eigen, bins=50)\n",
        "  histos.append(hist)\n",
        "  bins.append(bin)"
      ],
      "execution_count": null,
      "outputs": [
        {
          "output_type": "stream",
          "name": "stderr",
          "text": [
            "100%|██████████| 50/50 [00:51<00:00,  1.02s/it]\n"
          ]
        }
      ]
    },
    {
      "cell_type": "code",
      "metadata": {
        "colab": {
          "base_uri": "https://localhost:8080/",
          "height": 720
        },
        "id": "GjeHsXjOV6fs",
        "outputId": "a85c54a2-626d-4867-851f-33b770b0b672"
      },
      "source": [
        "histos_means = np.mean(histos, 0)\n",
        "histos_errors = np.std(histos, 0)\n",
        "\n",
        "bins_ = 0.5*(np.mean(bins, 0)[1:] + np.mean(bins, 0)[:-1])\n",
        "\n",
        "plt.figure(figsize=[16, 12])\n",
        "plt.errorbar( bins_, histos_means, yerr = histos_errors, fmt='.k', ecolor='violet', )\n",
        "plt.show()"
      ],
      "execution_count": null,
      "outputs": [
        {
          "output_type": "display_data",
          "data": {
            "image/png": "[encoded data removed]",
            "text/plain": [
              "<Figure size 1152x864 with 1 Axes>"
            ]
          },
          "metadata": {
            "needs_background": "light"
          }
        }
      ]
    },
    {
      "cell_type": "code",
      "metadata": {
        "id": "7jPCJwfLZhpA"
      },
      "source": [
        ""
      ],
      "execution_count": null,
      "outputs": []
    }
  ]
}