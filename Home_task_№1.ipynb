{
  "nbformat": 4,
  "nbformat_minor": 0,
  "metadata": {
    "colab": {
      "name": "Home task №1.ipynb",
      "provenance": [],
      "toc_visible": true,
      "include_colab_link": true
    },
    "kernelspec": {
      "name": "python3",
      "display_name": "Python 3"
    },
    "language_info": {
      "name": "python"
    }
  },
  "cells": [
    {
      "cell_type": "markdown",
      "metadata": {
        "id": "view-in-github",
        "colab_type": "text"
      },
      "source": [
        "<a href=\"https://colab.research.google.com/github/asenka239/compMath/blob/main/Home_task_%E2%84%961.ipynb\" target=\"_parent\"><img src=\"https://colab.research.google.com/assets/colab-badge.svg\" alt=\"Open In Colab\"/></a>"
      ]
    },
    {
      "cell_type": "markdown",
      "metadata": {
        "id": "TlOwptG_rILh"
      },
      "source": [
        "# Numpy"
      ]
    },
    {
      "cell_type": "code",
      "metadata": {
        "id": "i7f1khfxrPCY"
      },
      "source": [
        "import numpy as np"
      ],
      "execution_count": null,
      "outputs": []
    },
    {
      "cell_type": "markdown",
      "metadata": {
        "id": "Ayhr8BmIrK4U"
      },
      "source": [
        "Задание № 1"
      ]
    },
    {
      "cell_type": "code",
      "metadata": {
        "colab": {
          "base_uri": "https://localhost:8080/"
        },
        "id": "StheeRhqrMKn",
        "outputId": "8f448b88-0aec-4973-8355-07cb4e417abc"
      },
      "source": [
        "a = np.array([[1, 2, 3],\n",
        "              [4, 5, 6,]])\n",
        "b = np.array([[7, 8],\n",
        "              [9, 10]])\n",
        "\n",
        "print(a)\n",
        "print(b)\n",
        "a_plus_b = np.concatenate([a, b], axis=1)\n",
        "print(a_plus_b)"
      ],
      "execution_count": null,
      "outputs": [
        {
          "output_type": "stream",
          "name": "stdout",
          "text": [
            "[[1 2 3]\n",
            " [4 5 6]]\n",
            "[[ 7  8]\n",
            " [ 9 10]]\n",
            "[[ 1  2  3  7  8]\n",
            " [ 4  5  6  9 10]]\n"
          ]
        }
      ]
    },
    {
      "cell_type": "markdown",
      "metadata": {
        "id": "Hq39mp1RrZIm"
      },
      "source": [
        "Задание №2"
      ]
    },
    {
      "cell_type": "code",
      "metadata": {
        "colab": {
          "base_uri": "https://localhost:8080/"
        },
        "id": "0SGLIloQrW_P",
        "outputId": "6be8a86b-3783-4ffa-ac96-7d611ee24148"
      },
      "source": [
        "a = np.arange(5)\n",
        "b = np.arange(0, 10, 2)\n",
        "M = np.random.randint(10, size = (max(a)+1, max(b)+1))\n",
        "print('M = \\n', M, '\\n')\n",
        "\n",
        "np.diag(M[a][:, b])"
      ],
      "execution_count": null,
      "outputs": [
        {
          "output_type": "stream",
          "name": "stdout",
          "text": [
            "M = \n",
            " [[4 3 6 8 3 5 0 9 2]\n",
            " [5 6 5 3 0 4 0 5 9]\n",
            " [0 3 7 0 7 2 4 2 3]\n",
            " [9 9 8 1 2 5 1 2 2]\n",
            " [9 0 0 7 9 6 9 5 1]] \n",
            "\n"
          ]
        },
        {
          "output_type": "execute_result",
          "data": {
            "text/plain": [
              "array([4, 5, 7, 1, 1])"
            ]
          },
          "metadata": {},
          "execution_count": 7
        }
      ]
    },
    {
      "cell_type": "markdown",
      "metadata": {
        "id": "MTH2urF-wXJh"
      },
      "source": [
        "Задание №3"
      ]
    },
    {
      "cell_type": "code",
      "metadata": {
        "colab": {
          "base_uri": "https://localhost:8080/"
        },
        "id": "sf8FKabhwQ0T",
        "outputId": "5d3ec29e-91ce-47a2-ee0b-58b09734b786"
      },
      "source": [
        "M = np.array([[6, 2, 1, 2, 9],\n",
        "              [6, 4, 8, 8, 7],\n",
        "              [0, 2, 0, 0, 0],\n",
        "              [6, 6, 6, 3, 2],\n",
        "              [7, 3, 8, 5, 9]])\n",
        "\n",
        "print('Trace of M is', M.trace())\n",
        "print('Diagonal of M has', np.count_nonzero(np.diag(M)))"
      ],
      "execution_count": null,
      "outputs": [
        {
          "output_type": "stream",
          "name": "stdout",
          "text": [
            "Trace of M is 22\n",
            "Diagonal of M has 4\n"
          ]
        }
      ]
    },
    {
      "cell_type": "markdown",
      "metadata": {
        "id": "kTT7PK-Bxif_"
      },
      "source": [
        "Задание №4"
      ]
    },
    {
      "cell_type": "code",
      "metadata": {
        "colab": {
          "base_uri": "https://localhost:8080/"
        },
        "id": "rYAho2EIxhNe",
        "outputId": "5da5f19c-fc88-4b15-aea1-d257d3eab5ab"
      },
      "source": [
        "M = np.random.randint(20, size = (10, 10))\n",
        "print(M)\n",
        "\n",
        "np.asarray(np.unique(M, return_counts=True)).T"
      ],
      "execution_count": null,
      "outputs": [
        {
          "output_type": "stream",
          "name": "stdout",
          "text": [
            "[[14  5 10  0  5 15 14 14 11 12]\n",
            " [16  2  0  4 11 12  8  1 15 15]\n",
            " [11 19  3  9  0  4  7  6  5  3]\n",
            " [16 16 12 15  5 17  2  4  6 15]\n",
            " [14  5  6 11 15  3  6 12 12 10]\n",
            " [15  9  3 12  3 12 13  0  2  9]\n",
            " [19 14 10 13 18  6 12  1  2 19]\n",
            " [ 4 17  6  4  0 17 13  9  4  0]\n",
            " [13  0  9  2 15 12  3 14  1  5]\n",
            " [ 6 16  6 19  2  0  2 19  3  7]]\n"
          ]
        },
        {
          "output_type": "execute_result",
          "data": {
            "text/plain": [
              "array([[ 0,  8],\n",
              "       [ 1,  3],\n",
              "       [ 2,  7],\n",
              "       [ 3,  7],\n",
              "       [ 4,  6],\n",
              "       [ 5,  6],\n",
              "       [ 6,  8],\n",
              "       [ 7,  2],\n",
              "       [ 8,  1],\n",
              "       [ 9,  5],\n",
              "       [10,  3],\n",
              "       [11,  4],\n",
              "       [12,  9],\n",
              "       [13,  4],\n",
              "       [14,  6],\n",
              "       [15,  8],\n",
              "       [16,  4],\n",
              "       [17,  3],\n",
              "       [18,  1],\n",
              "       [19,  5]])"
            ]
          },
          "metadata": {},
          "execution_count": 12
        }
      ]
    },
    {
      "cell_type": "markdown",
      "metadata": {
        "id": "GNwnLQeD2eR5"
      },
      "source": [
        "Задание №5"
      ]
    },
    {
      "cell_type": "code",
      "metadata": {
        "colab": {
          "base_uri": "https://localhost:8080/"
        },
        "id": "rEAK4N1MzPYr",
        "outputId": "cbede33f-0c60-4d10-a735-ce6ac54cbca1"
      },
      "source": [
        " m = 4\n",
        " n = 3\n",
        " a, b = np.random.randint(-10, high=10, size=(m,n)), np.random.randint(-10, high=10, size=(m,n))\n",
        " print('a = \\n', a, '\\n b = \\n', b, '\\n')\n",
        "\n",
        " b * (np.greater_equal(a, 0))"
      ],
      "execution_count": null,
      "outputs": [
        {
          "output_type": "stream",
          "name": "stdout",
          "text": [
            "a = \n",
            " [[  0   7  -5]\n",
            " [  4   5  -9]\n",
            " [  3   5 -10]\n",
            " [  6  -8  -5]] \n",
            " b = \n",
            " [[ 3  3 -6]\n",
            " [-6  9 -5]\n",
            " [ 3  0  1]\n",
            " [-7  6  8]] \n",
            "\n"
          ]
        },
        {
          "output_type": "execute_result",
          "data": {
            "text/plain": [
              "array([[ 3,  3,  0],\n",
              "       [-6,  9,  0],\n",
              "       [ 3,  0,  0],\n",
              "       [-7,  0,  0]])"
            ]
          },
          "metadata": {},
          "execution_count": 16
        }
      ]
    },
    {
      "cell_type": "markdown",
      "metadata": {
        "id": "0zESSZhf83Df"
      },
      "source": [
        "Задание №6"
      ]
    },
    {
      "cell_type": "code",
      "metadata": {
        "colab": {
          "base_uri": "https://localhost:8080/"
        },
        "id": "VLchv4tQ1t5K",
        "outputId": "9b1232bf-64dc-4b1c-f24e-3539d2d32d23"
      },
      "source": [
        "M = np.array([[6, 2, 1, 2, 9],\n",
        "              [6, 4, 8, 8, 7],\n",
        "              [0, 2, 0, 0, 0],\n",
        "              [6, 6, 6, 3, 2],\n",
        "              [7, 3, 8, 5, 9]])\n",
        "\n",
        "M_ = M - np.mean(M, 0)\n",
        "print(M_)\n",
        "\n",
        "M_ / np.linalg.norm(M_, axis=0)"
      ],
      "execution_count": null,
      "outputs": [
        {
          "output_type": "stream",
          "name": "stdout",
          "text": [
            "[[ 1.  -1.4 -3.6 -1.6  3.6]\n",
            " [ 1.   0.6  3.4  4.4  1.6]\n",
            " [-5.  -1.4 -4.6 -3.6 -5.4]\n",
            " [ 1.   2.6  1.4 -0.6 -3.4]\n",
            " [ 2.  -0.4  3.4  1.4  3.6]]\n"
          ]
        },
        {
          "output_type": "execute_result",
          "data": {
            "text/plain": [
              "array([[ 0.1767767 , -0.41833001, -0.46788772, -0.26233033,  0.43276233],\n",
              "       [ 0.1767767 ,  0.17928429,  0.44189396,  0.72140842,  0.19233881],\n",
              "       [-0.88388348, -0.41833001, -0.59785653, -0.59024325, -0.6491435 ],\n",
              "       [ 0.1767767 ,  0.7768986 ,  0.18195634, -0.09837388, -0.40871998],\n",
              "       [ 0.35355339, -0.11952286,  0.44189396,  0.22953904,  0.43276233]])"
            ]
          },
          "metadata": {},
          "execution_count": 17
        }
      ]
    },
    {
      "cell_type": "code",
      "metadata": {
        "id": "kGoSuP_s8_ga"
      },
      "source": [
        ""
      ],
      "execution_count": null,
      "outputs": []
    }
  ]
}