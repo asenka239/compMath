{
  "nbformat": 4,
  "nbformat_minor": 0,
  "metadata": {
    "colab": {
      "name": "Home task №2.ipynb",
      "provenance": [],
      "collapsed_sections": [],
      "include_colab_link": true
    },
    "kernelspec": {
      "name": "python3",
      "display_name": "Python 3"
    },
    "language_info": {
      "name": "python"
    }
  },
  "cells": [
    {
      "cell_type": "markdown",
      "metadata": {
        "id": "view-in-github",
        "colab_type": "text"
      },
      "source": [
        "<a href=\"https://colab.research.google.com/github/asenka239/compMath/blob/main/Home_task_%E2%84%962.ipynb\" target=\"_parent\"><img src=\"https://colab.research.google.com/assets/colab-badge.svg\" alt=\"Open In Colab\"/></a>"
      ]
    },
    {
      "cell_type": "code",
      "metadata": {
        "id": "5k7QR72kca06"
      },
      "source": [
        "import numpy as np\n",
        "from matplotlib import pyplot as plt"
      ],
      "execution_count": null,
      "outputs": []
    },
    {
      "cell_type": "markdown",
      "metadata": {
        "id": "mctpUu9qlafL"
      },
      "source": [
        "## Задача № 1"
      ]
    },
    {
      "cell_type": "code",
      "metadata": {
        "colab": {
          "base_uri": "https://localhost:8080/",
          "height": 265
        },
        "id": "C-AcVxklelSm",
        "outputId": "cff0b288-474e-4204-fd20-012904577cc0"
      },
      "source": [
        "true_w1 = 2\n",
        "true_w0 = 4\n",
        "# print('True w:', true_w1, true_w0)\n",
        "\n",
        "xs = np.arange(1, 5, 0.2)\n",
        "noise = np.random.normal(0, 1, size=xs.shape)\n",
        "ys = xs * true_w1 + true_w0 + noise\n",
        "\n",
        "plt.scatter(xs, ys)\n",
        "plt.plot(xs, ys - noise, c='r')\n",
        "plt.show()"
      ],
      "execution_count": null,
      "outputs": [
        {
          "output_type": "display_data",
          "data": {
            "image/png": "[encoded data removed]",
            "text/plain": [
              "<Figure size 432x288 with 1 Axes>"
            ]
          },
          "metadata": {
            "needs_background": "light"
          }
        }
      ]
    },
    {
      "cell_type": "markdown",
      "metadata": {
        "id": "RPu68hncklWy"
      },
      "source": [
        "Минимизация по МНК постоянной величиной означает просто-напросто среднее от выборки: $$\\hat{y} = \\bar{y} = \\frac{1}{l} \\sum_{i=1}^{l} y_i$$"
      ]
    },
    {
      "cell_type": "code",
      "metadata": {
        "colab": {
          "base_uri": "https://localhost:8080/"
        },
        "id": "Ai3MRhZaerEK",
        "outputId": "9c7b88b2-809c-4731-a7ec-37482919d612"
      },
      "source": [
        "y_hat = ys.mean()\n",
        "print(f'y_hat = {y_hat}')"
      ],
      "execution_count": null,
      "outputs": [
        {
          "output_type": "stream",
          "name": "stdout",
          "text": [
            "y_hat = 9.972428233229786\n"
          ]
        }
      ]
    },
    {
      "cell_type": "code",
      "metadata": {
        "colab": {
          "base_uri": "https://localhost:8080/",
          "height": 265
        },
        "id": "Wf1IFFjffvOJ",
        "outputId": "d84d43e8-732a-463d-885a-78108b66c411"
      },
      "source": [
        "plt.scatter(xs, ys)\n",
        "# plt.plot(xs, ys - noise, c='r')\n",
        "plt.plot(xs, np.full(xs.shape, ys.mean()), c='g')\n",
        "plt.show()"
      ],
      "execution_count": null,
      "outputs": [
        {
          "output_type": "display_data",
          "data": {
            "image/png": "[encoded data removed]",
            "text/plain": [
              "<Figure size 432x288 with 1 Axes>"
            ]
          },
          "metadata": {
            "needs_background": "light"
          }
        }
      ]
    },
    {
      "cell_type": "markdown",
      "metadata": {
        "id": "K7pdu3kslePb"
      },
      "source": [
        "## Задача № 2"
      ]
    },
    {
      "cell_type": "code",
      "metadata": {
        "id": "ZUhtFVRYkiDJ"
      },
      "source": [
        "import seaborn as sns"
      ],
      "execution_count": null,
      "outputs": []
    },
    {
      "cell_type": "code",
      "metadata": {
        "colab": {
          "base_uri": "https://localhost:8080/",
          "height": 204
        },
        "id": "ARRZx4J_lssU",
        "outputId": "5a204fd8-71ca-4217-db09-d8563ec83796"
      },
      "source": [
        "data = sns.load_dataset('anscombe')\n",
        "data.head()"
      ],
      "execution_count": null,
      "outputs": [
        {
          "output_type": "execute_result",
          "data": {
            "text/html": [
              "<div>\n",
              "<style scoped>\n",
              "    .dataframe tbody tr th:only-of-type {\n",
              "        vertical-align: middle;\n",
              "    }\n",
              "\n",
              "    .dataframe tbody tr th {\n",
              "        vertical-align: top;\n",
              "    }\n",
              "\n",
              "    .dataframe thead th {\n",
              "        text-align: right;\n",
              "    }\n",
              "</style>\n",
              "<table border=\"1\" class=\"dataframe\">\n",
              "  <thead>\n",
              "    <tr style=\"text-align: right;\">\n",
              "      <th></th>\n",
              "      <th>dataset</th>\n",
              "      <th>x</th>\n",
              "      <th>y</th>\n",
              "    </tr>\n",
              "  </thead>\n",
              "  <tbody>\n",
              "    <tr>\n",
              "      <th>0</th>\n",
              "      <td>I</td>\n",
              "      <td>10.0</td>\n",
              "      <td>8.04</td>\n",
              "    </tr>\n",
              "    <tr>\n",
              "      <th>1</th>\n",
              "      <td>I</td>\n",
              "      <td>8.0</td>\n",
              "      <td>6.95</td>\n",
              "    </tr>\n",
              "    <tr>\n",
              "      <th>2</th>\n",
              "      <td>I</td>\n",
              "      <td>13.0</td>\n",
              "      <td>7.58</td>\n",
              "    </tr>\n",
              "    <tr>\n",
              "      <th>3</th>\n",
              "      <td>I</td>\n",
              "      <td>9.0</td>\n",
              "      <td>8.81</td>\n",
              "    </tr>\n",
              "    <tr>\n",
              "      <th>4</th>\n",
              "      <td>I</td>\n",
              "      <td>11.0</td>\n",
              "      <td>8.33</td>\n",
              "    </tr>\n",
              "  </tbody>\n",
              "</table>\n",
              "</div>"
            ],
            "text/plain": [
              "  dataset     x     y\n",
              "0       I  10.0  8.04\n",
              "1       I   8.0  6.95\n",
              "2       I  13.0  7.58\n",
              "3       I   9.0  8.81\n",
              "4       I  11.0  8.33"
            ]
          },
          "metadata": {},
          "execution_count": 25
        }
      ]
    },
    {
      "cell_type": "code",
      "metadata": {
        "colab": {
          "base_uri": "https://localhost:8080/"
        },
        "id": "71JjX4Pfn5Fj",
        "outputId": "a40ff6d6-749b-409d-f8eb-c3679f98a205"
      },
      "source": [
        "np.var(data[data.dataset=='I']['x'])\n",
        "np.corrcoef(data[data.dataset=='I']['x'], data[data.dataset=='I']['y'])[0,1]"
      ],
      "execution_count": null,
      "outputs": [
        {
          "output_type": "execute_result",
          "data": {
            "text/plain": [
              "0.81642051634484"
            ]
          },
          "metadata": {},
          "execution_count": 51
        }
      ]
    },
    {
      "cell_type": "code",
      "metadata": {
        "colab": {
          "base_uri": "https://localhost:8080/",
          "height": 730
        },
        "id": "sciAyFp-lw65",
        "outputId": "7e14e856-8670-4a61-9878-cd49c35687ef"
      },
      "source": [
        "fig, axs = plt.subplots(2, 2, figsize=(20, 15))\n",
        "axs[0][0].scatter(data[data.dataset=='I']['x'], data[data.dataset=='I']['y'])\n",
        "axs[0][0].set_title(f\"I dataset \\n var(x) = {np.var(data[data.dataset=='I']['x'])}, var(y) = {round(np.var(data[data.dataset=='I']['y']), 2)}, r = {round(np.corrcoef(data[data.dataset=='I']['x'], data[data.dataset=='I']['y'])[0,1], 2)}\", fontsize=20)\n",
        "axs[0][1].scatter(data[data.dataset=='II']['x'], data[data.dataset=='II']['y'])\n",
        "axs[0][1].set_title(f\"II dataset \\n var(x) = {np.var(data[data.dataset=='II']['x'])}, var(y) = {round(np.var(data[data.dataset=='II']['y']), 2)}, r = {round(np.corrcoef(data[data.dataset=='II']['x'], data[data.dataset=='II']['y'])[0,1], 2)}\", fontsize=20)\n",
        "axs[1][0].scatter(data[data.dataset=='III']['x'], data[data.dataset=='III']['y'])\n",
        "axs[1][0].set_title(f\"III dataset \\n var(x) = {np.var(data[data.dataset=='III']['x'])}, var(y) = {round(np.var(data[data.dataset=='III']['y']), 2)}, r = {round(np.corrcoef(data[data.dataset=='III']['x'], data[data.dataset=='III']['y'])[0,1], 2)}\", fontsize=20)\n",
        "axs[1][1].scatter(data[data.dataset=='IV']['x'], data[data.dataset=='IV']['y'])\n",
        "axs[1][1].set_title(f\"IV dataset \\n var(x) = {np.var(data[data.dataset=='IV']['x'])}, var(y) = {round(np.var(data[data.dataset=='IV']['y']), 2)}, r = {round(np.corrcoef(data[data.dataset=='IV']['x'], data[data.dataset=='IV']['y'])[0,1], 2)}\", fontsize=20)\n",
        "plt.show()"
      ],
      "execution_count": null,
      "outputs": [
        {
          "output_type": "display_data",
          "data": {
            "image/png": "[encoded data removed]",
            "text/plain": [
              "<Figure size 1440x1080 with 4 Axes>"
            ]
          },
          "metadata": {
            "needs_background": "light"
          }
        }
      ]
    },
    {
      "cell_type": "markdown",
      "metadata": {
        "id": "RjE_-erhqfJ1"
      },
      "source": [
        "Все вычисления получились одинаковыми, хотя датасеты выглядят по разному."
      ]
    },
    {
      "cell_type": "markdown",
      "metadata": {
        "id": "e2i0JlisqxkG"
      },
      "source": [
        "## Задание 4"
      ]
    },
    {
      "cell_type": "markdown",
      "metadata": {
        "id": "P3OhDPbMyB6C"
      },
      "source": [
        "Обработка лабораторной работы по кольцам Ньютона, в которой измеряется зависимость квадрата радиуса колец от их номера."
      ]
    },
    {
      "cell_type": "code",
      "metadata": {
        "id": "9elth-IJmhh2"
      },
      "source": [
        "from pandas import read_excel"
      ],
      "execution_count": null,
      "outputs": []
    },
    {
      "cell_type": "code",
      "metadata": {
        "colab": {
          "base_uri": "https://localhost:8080/",
          "height": 204
        },
        "id": "FLcf_JQrrbrF",
        "outputId": "b97865ab-42ee-4a89-9ad5-8a40bf7546b2"
      },
      "source": [
        "data= read_excel(\"rings.xlsx\")\n",
        "data.head()"
      ],
      "execution_count": null,
      "outputs": [
        {
          "output_type": "execute_result",
          "data": {
            "text/html": [
              "<div>\n",
              "<style scoped>\n",
              "    .dataframe tbody tr th:only-of-type {\n",
              "        vertical-align: middle;\n",
              "    }\n",
              "\n",
              "    .dataframe tbody tr th {\n",
              "        vertical-align: top;\n",
              "    }\n",
              "\n",
              "    .dataframe thead th {\n",
              "        text-align: right;\n",
              "    }\n",
              "</style>\n",
              "<table border=\"1\" class=\"dataframe\">\n",
              "  <thead>\n",
              "    <tr style=\"text-align: right;\">\n",
              "      <th></th>\n",
              "      <th>m</th>\n",
              "      <th>l1 т</th>\n",
              "      <th>l2 т</th>\n",
              "      <th>r_m^2</th>\n",
              "      <th>l1</th>\n",
              "      <th>l2</th>\n",
              "      <th>r_m’^2</th>\n",
              "    </tr>\n",
              "  </thead>\n",
              "  <tbody>\n",
              "    <tr>\n",
              "      <th>0</th>\n",
              "      <td>0</td>\n",
              "      <td>4.71</td>\n",
              "      <td>3.72</td>\n",
              "      <td>0.25</td>\n",
              "      <td>4.15</td>\n",
              "      <td>4.15</td>\n",
              "      <td>0.00</td>\n",
              "    </tr>\n",
              "    <tr>\n",
              "      <th>1</th>\n",
              "      <td>1</td>\n",
              "      <td>5.00</td>\n",
              "      <td>3.24</td>\n",
              "      <td>0.77</td>\n",
              "      <td>4.78</td>\n",
              "      <td>3.43</td>\n",
              "      <td>0.46</td>\n",
              "    </tr>\n",
              "    <tr>\n",
              "      <th>2</th>\n",
              "      <td>2</td>\n",
              "      <td>5.45</td>\n",
              "      <td>2.92</td>\n",
              "      <td>1.60</td>\n",
              "      <td>5.16</td>\n",
              "      <td>3.08</td>\n",
              "      <td>1.08</td>\n",
              "    </tr>\n",
              "    <tr>\n",
              "      <th>3</th>\n",
              "      <td>3</td>\n",
              "      <td>5.59</td>\n",
              "      <td>2.65</td>\n",
              "      <td>2.16</td>\n",
              "      <td>5.44</td>\n",
              "      <td>2.79</td>\n",
              "      <td>1.76</td>\n",
              "    </tr>\n",
              "    <tr>\n",
              "      <th>4</th>\n",
              "      <td>4</td>\n",
              "      <td>5.83</td>\n",
              "      <td>2.42</td>\n",
              "      <td>2.91</td>\n",
              "      <td>5.70</td>\n",
              "      <td>2.54</td>\n",
              "      <td>2.50</td>\n",
              "    </tr>\n",
              "  </tbody>\n",
              "</table>\n",
              "</div>"
            ],
            "text/plain": [
              "   m  l1 т  l2 т  r_m^2    l1    l2  r_m’^2\n",
              "0  0  4.71  3.72   0.25  4.15  4.15    0.00\n",
              "1  1  5.00  3.24   0.77  4.78  3.43    0.46\n",
              "2  2  5.45  2.92   1.60  5.16  3.08    1.08\n",
              "3  3  5.59  2.65   2.16  5.44  2.79    1.76\n",
              "4  4  5.83  2.42   2.91  5.70  2.54    2.50"
            ]
          },
          "metadata": {},
          "execution_count": 74
        }
      ]
    },
    {
      "cell_type": "code",
      "metadata": {
        "colab": {
          "base_uri": "https://localhost:8080/",
          "height": 265
        },
        "id": "K2_ScQ9vrgUJ",
        "outputId": "8739c0b8-9e56-4ae9-f5c3-e0ed22fc31a9"
      },
      "source": [
        "m = data['m']\n",
        "r_dark = data['r_m^2']\n",
        "r_light = data['r_m’^2']\n",
        "\n",
        "plt.scatter(m, r_dark, c='purple')\n",
        "plt.scatter(m, r_light, c='orange')\n",
        "plt.show()"
      ],
      "execution_count": null,
      "outputs": [
        {
          "output_type": "display_data",
          "data": {
            "image/png": "[encoded data removed]",
            "text/plain": [
              "<Figure size 432x288 with 1 Axes>"
            ]
          },
          "metadata": {
            "needs_background": "light"
          }
        }
      ]
    },
    {
      "cell_type": "code",
      "metadata": {
        "colab": {
          "base_uri": "https://localhost:8080/"
        },
        "id": "rRJTPTJcsB8G",
        "outputId": "47cbd4f3-dc3a-49cc-dcdc-144ed1a5a034"
      },
      "source": [
        "from sklearn import linear_model\n",
        "from sklearn.metrics import mean_squared_error, r2_score\n",
        "\n",
        "# Create linear regression object\n",
        "regr_dark = linear_model.LinearRegression()\n",
        "regr_light = linear_model.LinearRegression()\n",
        "\n",
        "# Train the model using the training sets\n",
        "regr_dark.fit(np.array(m).reshape(-1, 1), r_dark)\n",
        "regr_light.fit(np.array(m).reshape(-1, 1), r_light)\n",
        "\n",
        "# Make predictions using the testing set\n",
        "y_pred_dark = regr_dark.predict(np.array(m).reshape(-1, 1))\n",
        "y_pred_light = regr_light.predict(np.array(m).reshape(-1, 1))\n",
        "\n",
        "# The coefficients\n",
        "print('Coefficients for dark: \\n', regr_dark.coef_)\n",
        "print('Coefficients for light: \\n', regr_light.coef_)\n",
        "# The mean squared error\n",
        "print('Mean squared error for dark: %.2f'\n",
        "      % mean_squared_error(r_dark, y_pred_dark))\n",
        "print('Mean squared error for light: %.2f'\n",
        "      % mean_squared_error(r_light, y_pred_light))\n"
      ],
      "execution_count": null,
      "outputs": [
        {
          "output_type": "stream",
          "name": "stdout",
          "text": [
            "Coefficients for dark: \n",
            " [0.70119048]\n",
            "Coefficients for light: \n",
            " [0.6752381]\n",
            "Mean squared error for dark: 0.01\n",
            "Mean squared error for light: 0.01\n"
          ]
        }
      ]
    },
    {
      "cell_type": "code",
      "metadata": {
        "colab": {
          "base_uri": "https://localhost:8080/",
          "height": 265
        },
        "id": "WPsNBJ1fxNj4",
        "outputId": "3235d528-8c31-4228-be34-1b291bb85a6c"
      },
      "source": [
        "plt.scatter(m, r_dark, c='purple')\n",
        "plt.scatter(m, r_light, c='orange')\n",
        "plt.plot(m, y_pred_dark, color='violet', )\n",
        "plt.plot(m, y_pred_light, color='yellow', )\n",
        "plt.show()"
      ],
      "execution_count": null,
      "outputs": [
        {
          "output_type": "display_data",
          "data": {
            "image/png": "[encoded data removed]",
            "text/plain": [
              "<Figure size 432x288 with 1 Axes>"
            ]
          },
          "metadata": {
            "needs_background": "light"
          }
        }
      ]
    },
    {
      "cell_type": "code",
      "metadata": {
        "id": "5AhLBcWhy-J0"
      },
      "source": [
        ""
      ],
      "execution_count": null,
      "outputs": []
    }
  ]
}